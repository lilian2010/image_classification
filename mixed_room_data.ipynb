{
 "cells": [
  {
   "cell_type": "code",
   "execution_count": 1,
   "metadata": {},
   "outputs": [],
   "source": [
    "#imoport some packages to use \n",
    "import cv2\n",
    "import numpy as np \n",
    "import pandas as pd \n",
    "import matplotlib.pyplot as plt \n",
    "%matplotlib inline \n",
    "\n",
    "#To see our directory \n",
    "import os \n",
    "import random \n",
    "import gc #Gabage collector for cleanning data from memory \n",
    "from skimage import io, data_dir"
   ]
  },
  {
   "cell_type": "markdown",
   "metadata": {},
   "source": [
    "Read the kicthen data"
   ]
  },
  {
   "cell_type": "code",
   "execution_count": 2,
   "metadata": {},
   "outputs": [],
   "source": [
    "new_path_str = 'kitchen/new'\n",
    "old_path_str = 'kitchen/old'\n",
    "\n",
    "#rename the images in the new folder\n",
    "i=0\n",
    "for item in os.listdir(new_path_str):\n",
    "    os.rename(os.path.join(new_path_str,item),os.path.join(new_path_str,('new.'+str(i)+'.jpg')))\n",
    "    i +=1\n",
    "\n",
    "\n",
    "\n",
    "    \n",
    "\n"
   ]
  },
  {
   "cell_type": "markdown",
   "metadata": {},
   "source": [
    "How many images for kitchen-new"
   ]
  },
  {
   "cell_type": "markdown",
   "metadata": {},
   "source": [
    "print(i)"
   ]
  },
  {
   "cell_type": "markdown",
   "metadata": {},
   "source": [
    "519"
   ]
  },
  {
   "cell_type": "code",
   "execution_count": 4,
   "metadata": {},
   "outputs": [],
   "source": [
    "#rename the images in the new folder\n",
    "i=0\n",
    "for item in os.listdir(old_path_str):\n",
    "    os.rename(os.path.join(old_path_str,item),os.path.join(old_path_str,('old.'+str(i)+'.jpg')))\n",
    "    i +=1"
   ]
  },
  {
   "cell_type": "markdown",
   "metadata": {},
   "source": [
    "How many images for kitchen-old"
   ]
  },
  {
   "cell_type": "code",
   "execution_count": 5,
   "metadata": {},
   "outputs": [
    {
     "name": "stdout",
     "output_type": "stream",
     "text": [
      "465\n"
     ]
    }
   ],
   "source": [
    "print(i)"
   ]
  },
  {
   "cell_type": "code",
   "execution_count": 6,
   "metadata": {},
   "outputs": [],
   "source": [
    "i_newstart = 519\n"
   ]
  },
  {
   "cell_type": "markdown",
   "metadata": {},
   "source": [
    "Read the bathroom data"
   ]
  },
  {
   "cell_type": "code",
   "execution_count": 7,
   "metadata": {},
   "outputs": [],
   "source": [
    "new_path_str = 'bathroom/new'\n",
    "\n",
    "\n",
    "#rename the images in the new folder\n",
    "\n",
    "for item in os.listdir(new_path_str):\n",
    "    os.rename(os.path.join(new_path_str,item),os.path.join(new_path_str,('new.'+str(i_newstart)+'.jpg')))\n",
    "    i_newstart +=1\n",
    "\n"
   ]
  },
  {
   "cell_type": "code",
   "execution_count": 8,
   "metadata": {},
   "outputs": [],
   "source": [
    "i_oldstart = 465\n",
    "old_path_str = 'bathroom/old'\n",
    "for item in os.listdir(old_path_str):\n",
    "    os.rename(os.path.join(old_path_str,item),os.path.join(old_path_str,('old.'+str(i_oldstart)+'.jpg')))\n",
    "    i_oldstart +=1"
   ]
  },
  {
   "cell_type": "code",
   "execution_count": 9,
   "metadata": {},
   "outputs": [
    {
     "name": "stdout",
     "output_type": "stream",
     "text": [
      "1000 920\n"
     ]
    }
   ],
   "source": [
    "print(i_newstart, i_oldstart)"
   ]
  },
  {
   "cell_type": "markdown",
   "metadata": {},
   "source": [
    "Read the bedroom data"
   ]
  },
  {
   "cell_type": "code",
   "execution_count": null,
   "metadata": {},
   "outputs": [],
   "source": [
    "new_path_str = 'bedroom/new'\n",
    "\n",
    "\n",
    "#rename the images in the new folder\n",
    "\n",
    "for item in os.listdir(new_path_str):\n",
    "    os.rename(os.path.join(new_path_str,item),os.path.join(new_path_str,('new.'+str(i_newstart)+'.jpg')))\n",
    "    i_newstart +=1\n",
    "\n"
   ]
  },
  {
   "cell_type": "code",
   "execution_count": 11,
   "metadata": {},
   "outputs": [],
   "source": [
    "old_path_str = 'bedroom/old'\n",
    "for item in os.listdir(old_path_str):\n",
    "    os.rename(os.path.join(old_path_str,item),os.path.join(old_path_str,('old.'+str(i_oldstart)+'.jpg')))\n",
    "    i_oldstart +=1"
   ]
  },
  {
   "cell_type": "code",
   "execution_count": 2,
   "metadata": {},
   "outputs": [],
   "source": [
    "new_dir = 'newall'\n",
    "new_imgs = ['newall/{}'.format(i) for i in os.listdir(new_dir)]\n",
    "old_dir = 'oldall'\n",
    "old_imgs = ['oldall/{}'.format(i) for i in os.listdir(old_dir)]\n",
    "random.shuffle(new_imgs)\n",
    "\n",
    "random.shuffle(old_imgs)\n",
    "length_new = len(new_imgs)\n",
    "length_old = len(old_imgs)"
   ]
  },
  {
   "cell_type": "markdown",
   "metadata": {},
   "source": [
    "# Data augmentation "
   ]
  },
  {
   "cell_type": "code",
   "execution_count": 3,
   "metadata": {},
   "outputs": [],
   "source": [
    "from tensorflow.keras import backend\n",
    "from tensorflow.keras.models import Sequential\n",
    "from scipy.misc import imread\n",
    "get_ipython().magic('matplotlib inline')\n",
    "import matplotlib.pyplot as plt\n",
    "import numpy as np\n",
    "import tensorflow.keras\n",
    "from tensorflow.keras.layers import Dense\n",
    "import pandas as pd\n",
    "\n",
    "from tensorflow.keras.applications.vgg16 import VGG16\n",
    "from tensorflow.keras.preprocessing import image\n",
    "from tensorflow.keras.applications.vgg16 import preprocess_input\n",
    "import numpy as np\n",
    "from tensorflow.keras.applications.vgg16 import decode_predictions"
   ]
  },
  {
   "cell_type": "code",
   "execution_count": 4,
   "metadata": {},
   "outputs": [],
   "source": [
    "from scipy.misc import imresize\n",
    "\n",
    "new_img=[]\n",
    "for i in range(length_new):\n",
    "\n",
    "    temp_img=image.load_img(new_imgs[i],target_size=(224,224))\n",
    "    \n",
    "    temp_img=image.img_to_array(temp_img)\n",
    "\n",
    "    new_img.append(temp_img)\n",
    "    \n",
    "new_img=np.array(new_img) \n",
    "new_img=preprocess_input(new_img)"
   ]
  },
  {
   "cell_type": "code",
   "execution_count": 5,
   "metadata": {},
   "outputs": [],
   "source": [
    "from scipy.misc import imresize\n",
    "\n",
    "old_img=[]\n",
    "for i in range(length_old):\n",
    "\n",
    "    temp_img=image.load_img(old_imgs[i],target_size=(224,224))\n",
    "    \n",
    "    temp_img=image.img_to_array(temp_img)\n",
    "\n",
    "    old_img.append(temp_img)\n",
    "    \n",
    "old_img=np.array(old_img) \n",
    "old_img=preprocess_input(old_img)"
   ]
  },
  {
   "cell_type": "code",
   "execution_count": null,
   "metadata": {},
   "outputs": [],
   "source": [
    "from tensorflow.keras.preprocessing.image import ImageDataGenerator, array_to_img, img_to_array, load_img\n",
    "\n",
    "\n",
    "datagen = ImageDataGenerator(\n",
    "    rotation_range=0.2,\n",
    "     width_shift_range=0.2,\n",
    "       height_shift_range=0.2,\n",
    "   shear_range=0.2,\n",
    "    zoom_range=0.2,\n",
    "    horizontal_flip=True,\n",
    "    fill_mode='nearest')\n",
    "#datagen = ImageDataGenerator (rescale = 1./255, \n",
    " #           rotation_range = 40, \n",
    "  #          width_shift_range = 0.2, \n",
    "      #      shear_range=0.2,\n",
    "       #     zoom_range=0.2,\n",
    "        #     horizontal_flip=True,)\n",
    "\n",
    "#img = load_img('～/Desktop/lena.jpg')  # this is a PIL image, please replace to your own file path\n",
    "#x = img_to_array(img)  # this is a Numpy array with shape (3, 150, 150)\n",
    "#x = x.reshape((1,) + x.shape)  # this is a Numpy array with shape (1, 3, 150, 150)\n",
    "\n",
    "# the .flow() command below generates batches of randomly transformed images\n",
    "# and saves the results to the `preview/` directory\n",
    "\n",
    "i = 0\n",
    "for batch in datagen.flow(new_img, batch_size=8, save_to_dir='trainpreview1/', save_prefix='new', save_format='jpg'):\n",
    "    i += 1\n",
    "    if i > length_new:\n",
    "        break  # otherwise the generator would loop indefinitely"
   ]
  },
  {
   "cell_type": "code",
   "execution_count": null,
   "metadata": {},
   "outputs": [],
   "source": [
    "i = 0\n",
    "for batch in datagen.flow(old_img, batch_size=8, save_to_dir='trainpreview1/', save_prefix='old', save_format='jpg'):\n",
    "    i += 1\n",
    "    if i > length_old:\n",
    "        break  # otherwise the generator would loop indefinitely"
   ]
  },
  {
   "cell_type": "code",
   "execution_count": 12,
   "metadata": {},
   "outputs": [],
   "source": [
    "from tensorflow.keras.preprocessing.image import ImageDataGenerator, array_to_img, img_to_array, load_img\n",
    "\n",
    "\n",
    "datagen = ImageDataGenerator(\n",
    "    rotation_range=0.2,\n",
    "     width_shift_range=0.2,\n",
    "       height_shift_range=0.2,\n",
    "   shear_range=0.2,\n",
    "    zoom_range=0.2,\n",
    "    horizontal_flip=True,\n",
    "    fill_mode='nearest')\n",
    "\n",
    "\n",
    "i = 0\n",
    "for batch in datagen.flow(new_img, batch_size=8, save_to_dir='kitchen/new/preview1/', save_prefix='new', save_format='jpg'):\n",
    "    i += 1\n",
    "    if i > length_new:\n",
    "        break  # otherwise the generator would loop indefinitely"
   ]
  },
  {
   "cell_type": "code",
   "execution_count": 13,
   "metadata": {},
   "outputs": [],
   "source": [
    "i = 0\n",
    "for batch in datagen.flow(old_img, batch_size=8, save_to_dir='kitchen/old/preview1/', save_prefix='old', save_format='jpg'):\n",
    "    i += 1\n",
    "    if i > length_old:\n",
    "        break  # otherwise the generator would loop indefinitely"
   ]
  },
  {
   "cell_type": "code",
   "execution_count": null,
   "metadata": {},
   "outputs": [],
   "source": []
  },
  {
   "cell_type": "code",
   "execution_count": null,
   "metadata": {},
   "outputs": [],
   "source": []
  },
  {
   "cell_type": "code",
   "execution_count": null,
   "metadata": {},
   "outputs": [],
   "source": []
  },
  {
   "cell_type": "code",
   "execution_count": null,
   "metadata": {},
   "outputs": [],
   "source": []
  },
  {
   "cell_type": "code",
   "execution_count": null,
   "metadata": {},
   "outputs": [],
   "source": []
  },
  {
   "cell_type": "code",
   "execution_count": null,
   "metadata": {},
   "outputs": [],
   "source": []
  },
  {
   "cell_type": "code",
   "execution_count": null,
   "metadata": {},
   "outputs": [],
   "source": []
  },
  {
   "cell_type": "code",
   "execution_count": null,
   "metadata": {},
   "outputs": [],
   "source": []
  },
  {
   "cell_type": "code",
   "execution_count": null,
   "metadata": {},
   "outputs": [],
   "source": []
  }
 ],
 "metadata": {
  "kernelspec": {
   "display_name": "Python 3",
   "language": "python",
   "name": "python3"
  },
  "language_info": {
   "codemirror_mode": {
    "name": "ipython",
    "version": 3
   },
   "file_extension": ".py",
   "mimetype": "text/x-python",
   "name": "python",
   "nbconvert_exporter": "python",
   "pygments_lexer": "ipython3",
   "version": "3.6.8"
  }
 },
 "nbformat": 4,
 "nbformat_minor": 2
}

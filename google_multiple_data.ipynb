{
 "cells": [
  {
   "cell_type": "code",
   "execution_count": 4,
   "metadata": {},
   "outputs": [],
   "source": [
    "#imoport some packages to use \n",
    "import cv2\n",
    "import numpy as np \n",
    "import pandas as pd \n",
    "import matplotlib.pyplot as plt \n",
    "%matplotlib inline \n",
    "\n",
    "#To see our directory \n",
    "import os \n",
    "import random \n",
    "import gc #Gabage collector for cleanning data from memory \n",
    "from skimage import io, data_dir"
   ]
  },
  {
   "cell_type": "code",
   "execution_count": 5,
   "metadata": {},
   "outputs": [],
   "source": [
    "new_path_str = 'kitchen/new'\n",
    "old_path_str = 'kitchen/old'\n",
    "\n",
    "#rename the images in the new folder\n",
    "i=0\n",
    "for item in os.listdir(new_path_str):\n",
    "    os.rename(os.path.join(new_path_str,item),os.path.join(new_path_str,('kitchen.'+'new.'+str(i)+'.jpg')))\n",
    "    i +=1\n",
    "i=0\n",
    "for item in os.listdir(old_path_str):\n",
    "    os.rename(os.path.join(old_path_str,item),os.path.join(old_path_str,('kitchen.'+'old.'+str(i)+'.jpg')))\n",
    "    i +=1"
   ]
  },
  {
   "cell_type": "code",
   "execution_count": 7,
   "metadata": {},
   "outputs": [],
   "source": [
    "new_path_str = 'bathroom/new'\n",
    "old_path_str = 'bathroom/old'\n",
    "\n",
    "#rename the images in the new folder\n",
    "i=0\n",
    "for item in os.listdir(new_path_str):\n",
    "    os.rename(os.path.join(new_path_str,item),os.path.join(new_path_str,('bathroom.'+'new.'+str(i)+'.jpg')))\n",
    "    i +=1\n",
    "i=0\n",
    "for item in os.listdir(old_path_str):\n",
    "    os.rename(os.path.join(old_path_str,item),os.path.join(old_path_str,('bathroom.'+'old.'+str(i)+'.jpg')))\n",
    "    i +=1\n",
    "\n",
    "\n",
    "    \n",
    "\n"
   ]
  },
  {
   "cell_type": "code",
   "execution_count": 8,
   "metadata": {},
   "outputs": [],
   "source": [
    "new_path_str = 'bedroom/new'\n",
    "old_path_str = 'bedroom/old'\n",
    "i=0\n",
    "for item in os.listdir(new_path_str):\n",
    "    os.rename(os.path.join(new_path_str,item),os.path.join(new_path_str,('bedroom.'+'new.'+str(i)+'.jpg')))\n",
    "    i +=1\n",
    "i=0\n",
    "for item in os.listdir(old_path_str):\n",
    "    os.rename(os.path.join(old_path_str,item),os.path.join(old_path_str,('bedroom.'+'old.'+str(i)+'.jpg')))\n",
    "    i +=1\n",
    "\n",
    "\n"
   ]
  },
  {
   "cell_type": "code",
   "execution_count": 5,
   "metadata": {},
   "outputs": [],
   "source": [
    "kitchen_path_str = 'kitchen'\n",
    "i=0\n",
    "for item in os.listdir(kitchen_path_str):\n",
    "    os.rename(os.path.join(kitchen_path_str,item),os.path.join(kitchen_path_str,('kitchen.'+str(i)+'.jpg')))\n",
    "    i +=1\n",
    "\n",
    "\n",
    "\n"
   ]
  },
  {
   "cell_type": "code",
   "execution_count": 2,
   "metadata": {},
   "outputs": [],
   "source": [
    "kitchen_path_str = 'outdoor'\n",
    "i=0\n",
    "for item in os.listdir(kitchen_path_str):\n",
    "    os.rename(os.path.join(kitchen_path_str,item),os.path.join(kitchen_path_str,('outdoor.'+str(i)+'.jpg')))\n",
    "    i +=1\n",
    "\n",
    "\n"
   ]
  },
  {
   "cell_type": "code",
   "execution_count": 18,
   "metadata": {},
   "outputs": [],
   "source": [
    "new_dir = 'bathroomnew'\n",
    "new_imgs = ['bathroomnew/{}'.format(i) for i in os.listdir(new_dir)]\n",
    "old_dir = 'bathroomold'\n",
    "old_imgs = ['bathroomold/{}'.format(i) for i in os.listdir(old_dir)]\n",
    "random.shuffle(new_imgs)\n",
    "random.shuffle(old_imgs)\n",
    "length_new = len(new_imgs)\n",
    "length_old = len(old_imgs)"
   ]
  },
  {
   "cell_type": "code",
   "execution_count": null,
   "metadata": {},
   "outputs": [],
   "source": []
  },
  {
   "cell_type": "code",
   "execution_count": null,
   "metadata": {},
   "outputs": [],
   "source": []
  },
  {
   "cell_type": "code",
   "execution_count": 6,
   "metadata": {},
   "outputs": [],
   "source": [
    "from tensorflow.keras import backend\n",
    "from tensorflow.keras.models import Sequential\n",
    "from scipy.misc import imread\n",
    "get_ipython().magic('matplotlib inline')\n",
    "import matplotlib.pyplot as plt\n",
    "import numpy as np\n",
    "import tensorflow.keras\n",
    "from tensorflow.keras.layers import Dense\n",
    "import pandas as pd\n",
    "\n",
    "from tensorflow.keras.applications.vgg16 import VGG16\n",
    "from tensorflow.keras.preprocessing import image\n",
    "from tensorflow.keras.applications.vgg16 import preprocess_input\n",
    "import numpy as np\n",
    "from tensorflow.keras.applications.vgg16 import decode_predictions"
   ]
  },
  {
   "cell_type": "code",
   "execution_count": 19,
   "metadata": {},
   "outputs": [],
   "source": [
    "from scipy.misc import imresize\n",
    "\n",
    "new_img=[]\n",
    "for i in range(length_new):\n",
    "\n",
    "    temp_img=image.load_img(new_imgs[i],target_size=(224,224))\n",
    "    \n",
    "    temp_img=image.img_to_array(temp_img)\n",
    "\n",
    "    new_img.append(temp_img)\n",
    "    \n",
    "new_img=np.array(new_img) \n",
    "new_img=preprocess_input(new_img)"
   ]
  },
  {
   "cell_type": "code",
   "execution_count": 20,
   "metadata": {},
   "outputs": [],
   "source": [
    "from scipy.misc import imresize\n",
    "\n",
    "old_img=[]\n",
    "for i in range(length_old):\n",
    "\n",
    "    temp_img=image.load_img(old_imgs[i],target_size=(224,224))\n",
    "    \n",
    "    temp_img=image.img_to_array(temp_img)\n",
    "\n",
    "    old_img.append(temp_img)\n",
    "    \n",
    "old_img=np.array(old_img) \n",
    "old_img=preprocess_input(old_img)"
   ]
  },
  {
   "cell_type": "code",
   "execution_count": null,
   "metadata": {},
   "outputs": [],
   "source": []
  },
  {
   "cell_type": "code",
   "execution_count": 21,
   "metadata": {},
   "outputs": [],
   "source": [
    "from tensorflow.keras.preprocessing.image import ImageDataGenerator, array_to_img, img_to_array, load_img\n",
    "\n",
    "\n",
    "datagen = ImageDataGenerator(\n",
    "    rotation_range=0.2,\n",
    "     width_shift_range=0.2,\n",
    "       height_shift_range=0.2,\n",
    "       shear_range=0.2,\n",
    "        zoom_range=0.2,\n",
    "        horizontal_flip=True,\n",
    "        fill_mode='nearest')\n",
    "#datagen = ImageDataGenerator (rescale = 1./255, \n",
    " #           rotation_range = 40, \n",
    "  #          width_shift_range = 0.2, \n",
    "      #      shear_range=0.2,\n",
    "       #     zoom_range=0.2,\n",
    "        #     horizontal_flip=True,)\n",
    "\n",
    "#img = load_img('～/Desktop/lena.jpg')  # this is a PIL image, please replace to your own file path\n",
    "#x = img_to_array(img)  # this is a Numpy array with shape (3, 150, 150)\n",
    "#x = x.reshape((1,) + x.shape)  # this is a Numpy array with shape (1, 3, 150, 150)\n",
    "\n",
    "# the .flow() command below generates batches of randomly transformed images\n",
    "# and saves the results to the `preview/` directory\n",
    "\n",
    "i = 0\n",
    "for batch in datagen.flow(new_img, batch_size=4, save_to_dir='trainpreview/', save_prefix='bathroom.new', save_format='jpg'):\n",
    "    i += 1\n",
    "    if i > length_new:\n",
    "        break  # otherwise the generator would loop indefinitely"
   ]
  },
  {
   "cell_type": "code",
   "execution_count": 22,
   "metadata": {},
   "outputs": [],
   "source": [
    "i = 0\n",
    "for batch in datagen.flow(old_img, batch_size=4, save_to_dir='trainpreview/', save_prefix= 'bathroom.old', save_format='jpg'):\n",
    "    i += 1\n",
    "    if i > length_old:\n",
    "        break  # otherwise the generator would loop indefinitely"
   ]
  },
  {
   "cell_type": "code",
   "execution_count": 23,
   "metadata": {},
   "outputs": [],
   "source": [
    "new_dir = 'bedroomnew'\n",
    "new_imgs = ['bedroomnew/{}'.format(i) for i in os.listdir(new_dir)]\n",
    "old_dir = 'bedroomold'\n",
    "old_imgs = ['bedroomold/{}'.format(i) for i in os.listdir(old_dir)]\n",
    "random.shuffle(new_imgs)\n",
    "random.shuffle(old_imgs)\n",
    "length_new = len(new_imgs)\n",
    "length_old = len(old_imgs)"
   ]
  },
  {
   "cell_type": "code",
   "execution_count": 24,
   "metadata": {},
   "outputs": [],
   "source": [
    "from scipy.misc import imresize\n",
    "\n",
    "new_img=[]\n",
    "for i in range(length_new):\n",
    "\n",
    "    temp_img=image.load_img(new_imgs[i],target_size=(224,224))\n",
    "    \n",
    "    temp_img=image.img_to_array(temp_img)\n",
    "\n",
    "    new_img.append(temp_img)\n",
    "    \n",
    "new_img=np.array(new_img) \n",
    "new_img=preprocess_input(new_img)"
   ]
  },
  {
   "cell_type": "code",
   "execution_count": 25,
   "metadata": {},
   "outputs": [],
   "source": [
    "from scipy.misc import imresize\n",
    "\n",
    "old_img=[]\n",
    "for i in range(length_old):\n",
    "\n",
    "    temp_img=image.load_img(old_imgs[i],target_size=(224,224))\n",
    "    \n",
    "    temp_img=image.img_to_array(temp_img)\n",
    "\n",
    "    old_img.append(temp_img)\n",
    "    \n",
    "old_img=np.array(old_img) \n",
    "old_img=preprocess_input(old_img)"
   ]
  },
  {
   "cell_type": "code",
   "execution_count": 26,
   "metadata": {},
   "outputs": [],
   "source": [
    "from tensorflow.keras.preprocessing.image import ImageDataGenerator, array_to_img, img_to_array, load_img\n",
    "\n",
    "\n",
    "datagen = ImageDataGenerator(\n",
    "    rotation_range=0.2,\n",
    "     width_shift_range=0.2,\n",
    "       height_shift_range=0.2,\n",
    "       shear_range=0.2,\n",
    "        zoom_range=0.2,\n",
    "        horizontal_flip=True,\n",
    "        fill_mode='nearest')\n",
    "#datagen = ImageDataGenerator (rescale = 1./255, \n",
    " #           rotation_range = 40, \n",
    "  #          width_shift_range = 0.2, \n",
    "      #      shear_range=0.2,\n",
    "       #     zoom_range=0.2,\n",
    "        #     horizontal_flip=True,)\n",
    "\n",
    "#img = load_img('～/Desktop/lena.jpg')  # this is a PIL image, please replace to your own file path\n",
    "#x = img_to_array(img)  # this is a Numpy array with shape (3, 150, 150)\n",
    "#x = x.reshape((1,) + x.shape)  # this is a Numpy array with shape (1, 3, 150, 150)\n",
    "\n",
    "# the .flow() command below generates batches of randomly transformed images\n",
    "# and saves the results to the `preview/` directory\n",
    "\n",
    "i = 0\n",
    "for batch in datagen.flow(new_img, batch_size=4, save_to_dir='trainpreview/', save_prefix='bedroom.new', save_format='jpg'):\n",
    "    i += 1\n",
    "    if i > length_new:\n",
    "        break  # otherwise the generator would loop indefinitely"
   ]
  },
  {
   "cell_type": "code",
   "execution_count": 27,
   "metadata": {},
   "outputs": [],
   "source": [
    "i = 0\n",
    "for batch in datagen.flow(old_img, batch_size=4, save_to_dir='trainpreview/', save_prefix='bedroom.old', save_format='jpg'):\n",
    "    i += 1\n",
    "    if i > length_old:\n",
    "        break  # otherwise the generator would loop indefinitely"
   ]
  },
  {
   "cell_type": "code",
   "execution_count": 11,
   "metadata": {},
   "outputs": [],
   "source": [
    "new_dir = 'kitchen/new'\n",
    "new_imgs = ['kitchen/new/{}'.format(i) for i in os.listdir(new_dir)]\n",
    "old_dir = 'kitchen/old'\n",
    "old_imgs = ['kitchen/old/{}'.format(i) for i in os.listdir(old_dir)]\n",
    "random.shuffle(new_imgs)\n",
    "random.shuffle(old_imgs)\n",
    "length_new = len(new_imgs)\n",
    "length_old = len(old_imgs)"
   ]
  },
  {
   "cell_type": "code",
   "execution_count": 9,
   "metadata": {},
   "outputs": [],
   "source": [
    "from scipy.misc import imresize\n",
    "\n",
    "new_img=[]\n",
    "for i in range(length_new):\n",
    "\n",
    "    temp_img=image.load_img(new_imgs[i],target_size=(224,224))\n",
    "    \n",
    "    temp_img=image.img_to_array(temp_img)\n",
    "\n",
    "    new_img.append(temp_img)\n",
    "    \n",
    "new_img=np.array(new_img) \n",
    "new_img=preprocess_input(new_img)"
   ]
  },
  {
   "cell_type": "code",
   "execution_count": 12,
   "metadata": {},
   "outputs": [],
   "source": [
    "from scipy.misc import imresize\n",
    "\n",
    "old_img=[]\n",
    "for i in range(length_old):\n",
    "\n",
    "    temp_img=image.load_img(old_imgs[i],target_size=(224,224))\n",
    "    \n",
    "    temp_img=image.img_to_array(temp_img)\n",
    "\n",
    "    old_img.append(temp_img)\n",
    "    \n",
    "old_img=np.array(old_img) \n",
    "old_img=preprocess_input(old_img)"
   ]
  },
  {
   "cell_type": "code",
   "execution_count": 16,
   "metadata": {},
   "outputs": [],
   "source": [
    "from tensorflow.keras.preprocessing.image import ImageDataGenerator, array_to_img, img_to_array, load_img\n",
    "\n",
    "\n",
    "datagen = ImageDataGenerator(\n",
    "    rotation_range=0.2,\n",
    "     width_shift_range=0.2,\n",
    "       height_shift_range=0.2,\n",
    "       shear_range=0.2,\n",
    "        zoom_range=0.2,\n",
    "        horizontal_flip=True,\n",
    "        fill_mode='nearest')\n",
    "\n",
    "\n",
    "i = 0\n",
    "for batch in datagen.flow(new_img, batch_size=4, save_to_dir='trainpreview/', save_prefix='kitchen.new', save_format='jpg'):\n",
    "    i += 1\n",
    "    if i > length_new:\n",
    "        break  # otherwise the generator would loop indefinitely"
   ]
  },
  {
   "cell_type": "code",
   "execution_count": 17,
   "metadata": {},
   "outputs": [],
   "source": [
    "i = 0\n",
    "for batch in datagen.flow(old_img, batch_size=4, save_to_dir='trainpreview/', save_prefix='kitchen.old', save_format='jpg'):\n",
    "    i += 1\n",
    "    if i > length_old:\n",
    "        break  # otherwise the generator would loop indefinitely"
   ]
  },
  {
   "cell_type": "code",
   "execution_count": null,
   "metadata": {},
   "outputs": [],
   "source": []
  },
  {
   "cell_type": "code",
   "execution_count": null,
   "metadata": {},
   "outputs": [],
   "source": []
  },
  {
   "cell_type": "code",
   "execution_count": null,
   "metadata": {},
   "outputs": [],
   "source": []
  },
  {
   "cell_type": "code",
   "execution_count": null,
   "metadata": {},
   "outputs": [],
   "source": []
  }
 ],
 "metadata": {
  "kernelspec": {
   "display_name": "Python 3",
   "language": "python",
   "name": "python3"
  },
  "language_info": {
   "codemirror_mode": {
    "name": "ipython",
    "version": 3
   },
   "file_extension": ".py",
   "mimetype": "text/x-python",
   "name": "python",
   "nbconvert_exporter": "python",
   "pygments_lexer": "ipython3",
   "version": "3.6.8"
  }
 },
 "nbformat": 4,
 "nbformat_minor": 2
}
